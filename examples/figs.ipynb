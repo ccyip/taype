{
 "cells": [
  {
   "cell_type": "code",
   "execution_count": null,
   "id": "44f82103-d237-4eed-9f3c-00ebe7d86172",
   "metadata": {},
   "outputs": [],
   "source": [
    "import pandas as pd\n",
    "import matplotlib.pyplot as plt\n",
    "import seaborn as sns\n",
    "import math\n",
    "import os\n",
    "\n",
    "sns.set_theme(style='whitegrid')\n",
    "drivers = ['plaintext', 'emp']\n",
    "driver_labels = {'plaintext':'#mux', 'emp':'running time (ms)'}\n",
    "driver_log_labels = {k : v + \" (log scale)\" for k, v in driver_labels.items()}\n",
    "config_dirs = {'default':'output', 'no-tupling':'output-no-tupling'}\n",
    "colors = plt.rcParams['axes.prop_cycle'].by_key()['color']\n",
    "other_ls = (0, (2, 2))\n",
    "\n",
    "# A helper function for reading csv files into the right data form\n",
    "def read_stats(cfg, cat, dr, v, n, **kwargs):\n",
    "    df = pd.read_csv(f'{config_dirs[cfg]}/{cat}/test_{v}.{dr}.output.csv', **kwargs)\n",
    "    df.columns = [n]\n",
    "    # Convert to milliseconds.\n",
    "    if dr == 'emp': df /= 1000\n",
    "    return df"
   ]
  },
  {
   "cell_type": "code",
   "execution_count": null,
   "id": "e832001c-ecfc-4c56-880d-4cc8798c4b91",
   "metadata": {
    "tags": []
   },
   "outputs": [],
   "source": [
    "# Setup available tests. Remove the 'no-tupling' element from configs if we didn't run the tests with tupling disabled.\n",
    "configs = ['default', 'no-tupling']\n",
    "#configs = ['default']"
   ]
  },
  {
   "cell_type": "code",
   "execution_count": null,
   "id": "613f0dc2-e6f1-42ad-9bf0-7a1ec837b67a",
   "metadata": {},
   "outputs": [],
   "source": [
    "# We generate PDFs in this directory\n",
    "os.makedirs('figs', exist_ok=True)"
   ]
  },
  {
   "cell_type": "code",
   "execution_count": null,
   "id": "ba5db885-a997-482d-b249-3cd253aa37e9",
   "metadata": {},
   "outputs": [],
   "source": [
    "# Load decision tree tests\n",
    "\n",
    "views = {'max':'max height', 'spine':'spine', 'spineF':'spine w/ feat.', 'all':'all'}\n",
    "\n",
    "stats = {}\n",
    "for dr in drivers:\n",
    "    df = pd.concat((read_stats('default', 'dtree', dr, 'dtree_'+v, n, usecols=['stat']) for (v, n) in views.items()), axis=1)\n",
    "    df.index = ['small', 'very sparse', 'eighth sparse', 'full']\n",
    "    stats[dr] = df"
   ]
  },
  {
   "cell_type": "code",
   "execution_count": null,
   "id": "5fdae53e-4ee0-40f5-ab0e-6cf5104945e8",
   "metadata": {},
   "outputs": [],
   "source": [
    "stats['emp']"
   ]
  },
  {
   "cell_type": "code",
   "execution_count": null,
   "id": "930b5e62-269c-4470-bfcb-e54eccefe0b3",
   "metadata": {},
   "outputs": [],
   "source": [
    "plt.rc('xtick', labelsize=16)\n",
    "plt.rc('ytick', labelsize=16)\n",
    "plt.rc('axes', labelsize=18)\n",
    "plt.rc('legend', fontsize=11)"
   ]
  },
  {
   "cell_type": "code",
   "execution_count": null,
   "id": "5294b94b-a74d-493b-8ddd-c48a2a4d549f",
   "metadata": {},
   "outputs": [],
   "source": [
    "# Plot the decision tree results (of emp driver)\n",
    "stats['emp'].T.plot.bar(logy=True, ylabel=driver_log_labels['emp'], rot=0)\n",
    "plt.savefig('figs/dtree-emp.pdf', bbox_inches = \"tight\")"
   ]
  },
  {
   "cell_type": "code",
   "execution_count": null,
   "id": "bd0f6a32-e8da-408f-937b-181312bbdfc5",
   "metadata": {
    "tags": []
   },
   "outputs": [],
   "source": [
    "# Keep track of correlations between #mux and the running time\n",
    "corrs = {}"
   ]
  },
  {
   "cell_type": "code",
   "execution_count": null,
   "id": "eef3a6e8-4feb-45b3-b4d6-3292120667b6",
   "metadata": {},
   "outputs": [],
   "source": [
    "# Load tree tests\n",
    "\n",
    "tests = {'lookup':'lookup', 'prob':'prob', 'map':'map'}\n",
    "\n",
    "all_stats = {}\n",
    "for cfg in configs:\n",
    "    all_stats[cfg] = {}\n",
    "    for dr in drivers:\n",
    "        all_stats[cfg][dr] = pd.concat((read_stats(cfg, 'tree', dr, v, n, index_col='public') for v, n in tests.items()), axis=1)\n",
    "\n",
    "stats = all_stats['default']"
   ]
  },
  {
   "cell_type": "code",
   "execution_count": null,
   "id": "a69794f9-ce76-4fd3-ae8d-3b8d19edf078",
   "metadata": {},
   "outputs": [],
   "source": [
    "stats['emp']"
   ]
  },
  {
   "cell_type": "code",
   "execution_count": null,
   "id": "e7f6a95e-31c6-4920-abdf-fcd4dae71da5",
   "metadata": {},
   "outputs": [],
   "source": [
    "plt.rc('legend', fontsize=18)"
   ]
  },
  {
   "cell_type": "code",
   "execution_count": null,
   "id": "a2c77e02-2a85-494c-99d2-5ccaccb8443d",
   "metadata": {},
   "outputs": [],
   "source": [
    "# Plot the results of tree microbenchmark (of emp driver)\n",
    "ax = stats['emp'].plot.line(logy=True, color=colors)\n",
    "if 'no-tupling' in all_stats:\n",
    "    all_stats['no-tupling']['emp'].plot.line(ax=ax, xlabel='max depth', ylabel=driver_log_labels['emp'], legend=False, ls=other_ls, color=colors)\n",
    "plt.savefig('figs/tree-emp.pdf', bbox_inches = \"tight\")"
   ]
  },
  {
   "cell_type": "code",
   "execution_count": null,
   "id": "d7adf99d-21ea-4df5-af74-760683ec8574",
   "metadata": {},
   "outputs": [],
   "source": [
    "# Calculate the correlation between the results of the plaintext driver and the emp driver\n",
    "if 'tree' not in corrs: corrs['tree'] = {}\n",
    "for i, tst in enumerate(tests.values()):\n",
    "    df = pd.DataFrame(data={'#mux':stats['plaintext'][tst], tst:stats['emp'][tst]})\n",
    "    corrs['tree'][tst] = df.corr().iat[0, 1]"
   ]
  },
  {
   "cell_type": "code",
   "execution_count": null,
   "id": "7b1cfe81-ea84-4e11-9a33-9bfca25b81f2",
   "metadata": {},
   "outputs": [],
   "source": [
    "# Load list tests which return primitive values (e.g., integer or boolean)\n",
    "\n",
    "tests = {'elem':'elem', 'hamming_distance':'hamming', 'min_euclidean_distance':'euclidean', 'dot_prod':'dot-prod'}\n",
    "\n",
    "all_stats = {}\n",
    "for cfg in configs:\n",
    "    all_stats[cfg] = {}\n",
    "    for dr in drivers:\n",
    "        all_stats[cfg][dr] = pd.concat((read_stats(cfg, 'list', dr, v, n, index_col='public') for v, n in tests.items()), axis=1)\n",
    "\n",
    "stats = all_stats['default']"
   ]
  },
  {
   "cell_type": "code",
   "execution_count": null,
   "id": "147bfc53-5784-4edc-b26c-5df2d34cd35f",
   "metadata": {},
   "outputs": [],
   "source": [
    "stats['emp']"
   ]
  },
  {
   "cell_type": "code",
   "execution_count": null,
   "id": "2d477814-a123-485f-850f-1d0085b66d56",
   "metadata": {},
   "outputs": [],
   "source": [
    "# Plot the results of list microbenchmark (of emp driver)\n",
    "ax = stats['emp'].plot.line(color=colors)\n",
    "if 'no-tupling' in all_stats:\n",
    "    all_stats['no-tupling']['emp'].plot.line(ax=ax, xlabel='max length', ylabel=driver_labels['emp'], legend=False, ls=other_ls, color=colors)\n",
    "plt.savefig('figs/list-emp-1.pdf', bbox_inches = \"tight\")"
   ]
  },
  {
   "cell_type": "code",
   "execution_count": null,
   "id": "6ed08f89-76dd-45f5-8964-1f82402974ba",
   "metadata": {},
   "outputs": [],
   "source": [
    "# Calculate the correlation between the results of the plaintext driver and the emp driver\n",
    "if 'list' not in corrs: corrs['list'] = {}\n",
    "for i, tst in enumerate(tests.values()):\n",
    "    df = pd.DataFrame(data={'#mux':stats['plaintext'][tst], tst:stats['emp'][tst]})\n",
    "    corrs['list'][tst] = df.corr().iat[0, 1]"
   ]
  },
  {
   "cell_type": "code",
   "execution_count": null,
   "id": "2eb1e3d7-9a27-4f83-bbf6-2840ed2b0a2f",
   "metadata": {},
   "outputs": [],
   "source": [
    "# Load list tests which return oblivious lists\n",
    "tests = {'insert':'insert', 'filter':'filter', 'map':'map'}\n",
    "\n",
    "all_stats = {}\n",
    "for cfg in configs:\n",
    "    all_stats[cfg] = {}\n",
    "    for dr in drivers:\n",
    "        all_stats[cfg][dr] = pd.concat((read_stats(cfg, 'list', dr, v, n, index_col='public') for v, n in tests.items()), axis=1) \\\n",
    "                               .sort_values(by='public') \\\n",
    "                               .interpolate(limit_area='inside') # the tests have different x-values\n",
    "\n",
    "stats = all_stats['default']"
   ]
  },
  {
   "cell_type": "code",
   "execution_count": null,
   "id": "371d4b55-fe12-4eb5-8cdd-5b2fd7093b6c",
   "metadata": {},
   "outputs": [],
   "source": [
    "# Plot the results of list microbenchmark (of emp driver)\n",
    "ax = stats['emp'].plot.line(color=colors)\n",
    "if 'no-tupling' in all_stats:\n",
    "    all_stats['no-tupling']['emp'].plot.line(ax=ax, xlabel='max length', ylabel=driver_labels['emp'], legend=False, ls=other_ls, color=colors)\n",
    "plt.savefig('figs/list-emp-2.pdf', bbox_inches = \"tight\")"
   ]
  },
  {
   "cell_type": "code",
   "execution_count": null,
   "id": "bd9879ed-6a43-4276-ad41-f4104561aa5f",
   "metadata": {},
   "outputs": [],
   "source": [
    "# Calculate the correlation between the results of the plaintext driver and the emp driver\n",
    "if 'list' not in corrs: corrs['list'] = {}\n",
    "for i, tst in enumerate(tests.values()):\n",
    "    df = pd.DataFrame(data={'#mux':stats['plaintext'][tst], tst:stats['emp'][tst]})\n",
    "    corrs['list'][tst] = df.corr().iat[0, 1]"
   ]
  },
  {
   "cell_type": "code",
   "execution_count": null,
   "id": "ba249f57-fcda-47a7-9913-59e689759f86",
   "metadata": {},
   "outputs": [],
   "source": [
    "# Combine the correlations from list and tree experiments\n",
    "cats = ['list', 'tree']\n",
    "df = pd.concat((pd.DataFrame(data=corrs[c], index=['correlation']).T for c in cats), keys=cats)\n",
    "df"
   ]
  },
  {
   "cell_type": "code",
   "execution_count": null,
   "id": "dda18c48-acd7-4320-a63c-b03af2ec861a",
   "metadata": {},
   "outputs": [],
   "source": [
    "# Print to latex\n",
    "df.style.to_latex('figs/mux-corr.tex', hrules=True, clines='skip-last;data')"
   ]
  },
  {
   "cell_type": "code",
   "execution_count": null,
   "id": "88386efe-b105-40d7-a379-33c41b4b59d9",
   "metadata": {},
   "outputs": [],
   "source": [
    "# Done!"
   ]
  }
 ],
 "metadata": {
  "kernelspec": {
   "display_name": "Python 3 (ipykernel)",
   "language": "python",
   "name": "python3"
  },
  "language_info": {
   "codemirror_mode": {
    "name": "ipython",
    "version": 3
   },
   "file_extension": ".py",
   "mimetype": "text/x-python",
   "name": "python",
   "nbconvert_exporter": "python",
   "pygments_lexer": "ipython3",
   "version": "3.11.2"
  }
 },
 "nbformat": 4,
 "nbformat_minor": 5
}
