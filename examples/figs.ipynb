{
 "cells": [
  {
   "cell_type": "code",
   "execution_count": null,
   "id": "44f82103-d237-4eed-9f3c-00ebe7d86172",
   "metadata": {},
   "outputs": [],
   "source": [
    "import pandas as pd\n",
    "import matplotlib.pyplot as plt\n",
    "import seaborn as sns\n",
    "import math\n",
    "\n",
    "sns.set_theme(style='whitegrid')\n",
    "drivers = ['plaintext', 'emp']\n",
    "driver_labels = {'plaintext':'#mux', 'emp':'running time (ms)'}\n",
    "\n",
    "def read_stats(cat, dr, v, n, **kwargs):\n",
    "    df = pd.read_csv(f'{cat}/test_{v}.{dr}.output.csv', **kwargs)\n",
    "    df.columns = [n]\n",
    "    # Convert to milliseconds.\n",
    "    if dr == 'emp': df /= 1000\n",
    "    return df"
   ]
  },
  {
   "cell_type": "code",
   "execution_count": null,
   "id": "ba5db885-a997-482d-b249-3cd253aa37e9",
   "metadata": {},
   "outputs": [],
   "source": [
    "# Load decision tree tests.\n",
    "\n",
    "views = {'max':'max height', 'height':'exact height', 'spine':'spine', 'spineF':'spine w/ feat.', 'all':'all'}\n",
    "\n",
    "stats = {}\n",
    "for dr in drivers:\n",
    "    df = pd.concat((read_stats('dtree', dr, 'dtree_'+v, n, usecols=['stat']) for (v, n) in views.items()), axis=1)\n",
    "    df.index = ['small', 'very sparse', 'eighth sparse', 'full']\n",
    "    stats[dr] = df"
   ]
  },
  {
   "cell_type": "code",
   "execution_count": null,
   "id": "5c0711ea-c85a-4765-a5eb-1bd322b8e185",
   "metadata": {},
   "outputs": [],
   "source": [
    "stats['plaintext']"
   ]
  },
  {
   "cell_type": "code",
   "execution_count": null,
   "id": "5fdae53e-4ee0-40f5-ab0e-6cf5104945e8",
   "metadata": {},
   "outputs": [],
   "source": [
    "stats['emp']"
   ]
  },
  {
   "cell_type": "code",
   "execution_count": null,
   "id": "1c42e0c9-f389-414a-88ea-bec442e0094d",
   "metadata": {},
   "outputs": [],
   "source": [
    "ax = stats['plaintext'].T.plot.bar(logy=True, ylabel=driver_labels['plaintext'], rot=0)\n",
    "ax.set_ylim(top=10**6.8)\n",
    "plt.savefig('figs/dtree-plaintext.pdf')"
   ]
  },
  {
   "cell_type": "code",
   "execution_count": null,
   "id": "5294b94b-a74d-493b-8ddd-c48a2a4d549f",
   "metadata": {},
   "outputs": [],
   "source": [
    "stats['emp'].T.plot.bar(logy=True, ylabel=driver_labels['emp'], rot=0)\n",
    "plt.savefig('figs/dtree-emp.pdf')"
   ]
  },
  {
   "cell_type": "code",
   "execution_count": null,
   "id": "bd0f6a32-e8da-408f-937b-181312bbdfc5",
   "metadata": {
    "tags": []
   },
   "outputs": [],
   "source": [
    "# Keep track of correlations between #mux and the running time.\n",
    "corrs = {}"
   ]
  },
  {
   "cell_type": "code",
   "execution_count": null,
   "id": "eef3a6e8-4feb-45b3-b4d6-3292120667b6",
   "metadata": {},
   "outputs": [],
   "source": [
    "# Load tree tests.\n",
    "\n",
    "tests = {'lookup':'lookup', 'prob':'prob', 'map':'map'}\n",
    "\n",
    "stats = {}\n",
    "for dr in drivers:\n",
    "    stats[dr] = pd.concat((read_stats('tree', dr, v, n, index_col='public') for (v, n) in tests.items()), axis=1)"
   ]
  },
  {
   "cell_type": "code",
   "execution_count": null,
   "id": "42fbe0e3-bb54-4380-a20f-078b60721e9a",
   "metadata": {},
   "outputs": [],
   "source": [
    "stats['plaintext']"
   ]
  },
  {
   "cell_type": "code",
   "execution_count": null,
   "id": "a69794f9-ce76-4fd3-ae8d-3b8d19edf078",
   "metadata": {},
   "outputs": [],
   "source": [
    "stats['emp']"
   ]
  },
  {
   "cell_type": "code",
   "execution_count": null,
   "id": "6bd0c8ce-8973-4f55-8395-f02b8064db8c",
   "metadata": {},
   "outputs": [],
   "source": [
    "# Remove the first value of map because it is zero which breaks logarithmic scale.\n",
    "stats['plaintext'].at[0, 'map'] = math.nan\n",
    "stats['plaintext'].plot.line(xlabel='max depth', ylabel=driver_labels['plaintext'], logy=True)\n",
    "plt.savefig('figs/tree-plaintext.pdf')"
   ]
  },
  {
   "cell_type": "code",
   "execution_count": null,
   "id": "a2c77e02-2a85-494c-99d2-5ccaccb8443d",
   "metadata": {},
   "outputs": [],
   "source": [
    "stats['emp'].plot.line(xlabel='max depth', ylabel=driver_labels['emp'], logy=True)\n",
    "plt.savefig('figs/tree-emp.pdf')"
   ]
  },
  {
   "cell_type": "code",
   "execution_count": null,
   "id": "d7adf99d-21ea-4df5-af74-760683ec8574",
   "metadata": {},
   "outputs": [],
   "source": [
    "fig, ax = plt.subplots(ncols=len(tests), figsize=(15,5))\n",
    "ax[0].set_ylabel(driver_labels['emp'])\n",
    "if 'tree' not in corrs: corrs['tree'] = {}\n",
    "for i, tst in enumerate(tests.values()):\n",
    "    df = pd.DataFrame(data={'#mux':stats['plaintext'][tst], tst:stats['emp'][tst]})\n",
    "    corrs['tree'][tst] = df.corr().iat[0, 1]\n",
    "    df.plot.line(ax=ax[i], x='#mux', y=tst, xlabel=driver_labels['plaintext'], marker='o')\n",
    "\n",
    "plt.savefig('figs/tree-mux-corr.pdf')"
   ]
  },
  {
   "cell_type": "code",
   "execution_count": null,
   "id": "7b1cfe81-ea84-4e11-9a33-9bfca25b81f2",
   "metadata": {},
   "outputs": [],
   "source": [
    "# Load list tests\n",
    "\n",
    "tests = {'elem':'elem', 'hamming_distance':'hamming', 'min_euclidean_distance':'euclidean', 'dot_prod':'dot-prod'}\n",
    "\n",
    "stats = {}\n",
    "for dr in drivers:\n",
    "    stats[dr] = pd.concat((read_stats('list', dr, v, n, index_col='public') for (v, n) in tests.items()), axis=1)"
   ]
  },
  {
   "cell_type": "code",
   "execution_count": null,
   "id": "0e277125-9c5d-4abe-8ff3-e253e329e378",
   "metadata": {},
   "outputs": [],
   "source": [
    "stats['plaintext']"
   ]
  },
  {
   "cell_type": "code",
   "execution_count": null,
   "id": "147bfc53-5784-4edc-b26c-5df2d34cd35f",
   "metadata": {},
   "outputs": [],
   "source": [
    "stats['emp']"
   ]
  },
  {
   "cell_type": "code",
   "execution_count": null,
   "id": "e4179612-53b6-4c36-aeb7-4a9dce93d99a",
   "metadata": {},
   "outputs": [],
   "source": [
    "stats['plaintext'].plot.line(xlabel='max length', ylabel=driver_labels['plaintext'])\n",
    "plt.savefig('figs/list-plaintext-1.pdf')"
   ]
  },
  {
   "cell_type": "code",
   "execution_count": null,
   "id": "2d477814-a123-485f-850f-1d0085b66d56",
   "metadata": {},
   "outputs": [],
   "source": [
    "stats['emp'].plot.line(xlabel='max length', ylabel=driver_labels['emp'])\n",
    "plt.savefig('figs/list-emp-1.pdf')"
   ]
  },
  {
   "cell_type": "code",
   "execution_count": null,
   "id": "6ed08f89-76dd-45f5-8964-1f82402974ba",
   "metadata": {},
   "outputs": [],
   "source": [
    "fig, ax = plt.subplots(ncols=len(tests), figsize=(15,5))\n",
    "ax[0].set_ylabel(driver_labels['emp'])\n",
    "if 'list' not in corrs: corrs['list'] = {}\n",
    "for i, tst in enumerate(tests.values()):\n",
    "    df = pd.DataFrame(data={'#mux':stats['plaintext'][tst], tst:stats['emp'][tst]})\n",
    "    corrs['list'][tst] = df.corr().iat[0, 1]\n",
    "    df.plot.line(ax=ax[i], x='#mux', y=tst, xlabel=driver_labels['plaintext'], marker='o')\n",
    "\n",
    "plt.savefig('figs/list-mux-corr-1.pdf')"
   ]
  },
  {
   "cell_type": "code",
   "execution_count": null,
   "id": "2eb1e3d7-9a27-4f83-bbf6-2840ed2b0a2f",
   "metadata": {},
   "outputs": [],
   "source": [
    "tests = {'insert':'insert', 'filter':'filter', 'map':'map'}\n",
    "\n",
    "stats = {}\n",
    "for dr in drivers:\n",
    "    stats[dr] = pd.concat((read_stats('list', dr, v, n, index_col='public') for (v, n) in tests.items()))"
   ]
  },
  {
   "cell_type": "code",
   "execution_count": null,
   "id": "2a9e1b01-e699-406e-917d-d5439d3ccdf9",
   "metadata": {},
   "outputs": [],
   "source": [
    "stats['plaintext'].plot.line(xlabel='max length', ylabel=driver_labels['plaintext'])\n",
    "plt.savefig('figs/list-plaintext-2.pdf')"
   ]
  },
  {
   "cell_type": "code",
   "execution_count": null,
   "id": "371d4b55-fe12-4eb5-8cdd-5b2fd7093b6c",
   "metadata": {},
   "outputs": [],
   "source": [
    "stats['emp'].plot.line(xlabel='max length', ylabel=driver_labels['emp'])\n",
    "plt.savefig('figs/list-emp-2.pdf')"
   ]
  },
  {
   "cell_type": "code",
   "execution_count": null,
   "id": "bd9879ed-6a43-4276-ad41-f4104561aa5f",
   "metadata": {},
   "outputs": [],
   "source": [
    "fig, ax = plt.subplots(ncols=len(tests), figsize=(15,5))\n",
    "ax[0].set_ylabel(driver_labels['emp'])\n",
    "if 'list' not in corrs: corrs['list'] = {}\n",
    "for i, tst in enumerate(tests.values()):\n",
    "    df = pd.DataFrame(data={'#mux':stats['plaintext'][tst], tst:stats['emp'][tst]})\n",
    "    corrs['list'][tst] = df.corr().iat[0, 1]\n",
    "    df.plot.line(ax=ax[i], x='#mux', y=tst, xlabel=driver_labels['plaintext'], marker='o')\n",
    "\n",
    "plt.savefig('figs/list-mux-corr-2.pdf')"
   ]
  },
  {
   "cell_type": "code",
   "execution_count": null,
   "id": "ba249f57-fcda-47a7-9913-59e689759f86",
   "metadata": {},
   "outputs": [],
   "source": [
    "cats = ['list', 'tree']\n",
    "df = pd.concat((pd.DataFrame(data=corrs[c], index=['correlation']).T for c in cats), keys=cats)\n",
    "df"
   ]
  },
  {
   "cell_type": "code",
   "execution_count": null,
   "id": "dda18c48-acd7-4320-a63c-b03af2ec861a",
   "metadata": {},
   "outputs": [],
   "source": [
    "df.style.to_latex('figs/mux-corr.tex', hrules=True, clines='skip-last;data')"
   ]
  },
  {
   "cell_type": "code",
   "execution_count": null,
   "id": "88386efe-b105-40d7-a379-33c41b4b59d9",
   "metadata": {},
   "outputs": [],
   "source": [
    "# Done!"
   ]
  }
 ],
 "metadata": {
  "kernelspec": {
   "display_name": "Python 3 (ipykernel)",
   "language": "python",
   "name": "python3"
  },
  "language_info": {
   "codemirror_mode": {
    "name": "ipython",
    "version": 3
   },
   "file_extension": ".py",
   "mimetype": "text/x-python",
   "name": "python",
   "nbconvert_exporter": "python",
   "pygments_lexer": "ipython3",
   "version": "3.10.8"
  }
 },
 "nbformat": 4,
 "nbformat_minor": 5
}
