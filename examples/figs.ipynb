{
 "cells": [
  {
   "cell_type": "code",
   "execution_count": null,
   "id": "44f82103-d237-4eed-9f3c-00ebe7d86172",
   "metadata": {},
   "outputs": [],
   "source": [
    "import pandas as pd\n",
    "import numpy as np\n",
    "import os\n",
    "import json"
   ]
  },
  {
   "cell_type": "code",
   "execution_count": null,
   "id": "7b18b946",
   "metadata": {},
   "outputs": [],
   "source": [
    "name_map = {\"hamming\": \"hamming_distance\", \"euclidean\": \"min_euclidean_distance\", \"flat_map\": \"concat_map\"}\n",
    "\n",
    "\n",
    "def read_stat(cfgs, cat, dr, name, view):\n",
    "    d = {\"name\": name, \"view\": view}\n",
    "    v = name_map[name] if name in name_map else name\n",
    "    for cfg in cfgs:\n",
    "        df = pd.read_csv(f\"output-{cfg}/{cat}/test_{v}.{dr}.output.csv\")\n",
    "        df = df.loc[df[\"public\"] == view]\n",
    "        stat = df.iloc[0][\"stat\"] if df.shape[0] > 0 else -1\n",
    "        # Convert to milliseconds.\n",
    "        if dr == \"emp\" and stat >= 0:\n",
    "            stat /= 1000\n",
    "        d[cfg] = stat\n",
    "    return d\n",
    "\n",
    "def read_stats(tests, cfgs, cat, dr):\n",
    "    return [read_stat(cfgs, cat, dr, name, view) for (name, view) in tests]"
   ]
  },
  {
   "cell_type": "code",
   "execution_count": null,
   "id": "4c727b7f",
   "metadata": {},
   "outputs": [],
   "source": [
    "stats = {}\n",
    "all_cfgs = [\"old\", \"old-sa\", \"best\", \"no-smart-array\", \"no-reshape-guard\", \"no-memo\"]\n",
    "memo_cfgs = [\"best\", \"no-memo\"]\n",
    "\n",
    "# List tests\n",
    "tests = [\n",
    "    (\"elem\", 1000),\n",
    "    (\"hamming\", 1000),\n",
    "    (\"euclidean\", 1000),\n",
    "    (\"dot_prod\", 1000),\n",
    "    (\"nth\", 1000),\n",
    "    (\"map\", 1000),\n",
    "    (\"filter\", 200),\n",
    "    (\"insert\", 200),\n",
    "    (\"insert_list\", 100),\n",
    "    (\"append\", 100),\n",
    "    (\"take\", 200),\n",
    "    (\"flat_map\", 200),\n",
    "    (\"span\", 200),\n",
    "    (\"partition\", 200),\n",
    "]\n",
    "\n",
    "stats[\"list\"] = read_stats(tests, all_cfgs, 'list', 'emp')\n",
    "\n",
    "stats[\"list-memo\"] = read_stats(tests, memo_cfgs, 'list-memo', 'emp')\n",
    "\n",
    "# Tree tests\n",
    "tests = [\n",
    "    (\"elem\", 16),\n",
    "    (\"prob\", 16),\n",
    "    (\"map\", 16),\n",
    "    (\"filter\", 16),\n",
    "    (\"swap\", 16),\n",
    "    (\"path\", 16),\n",
    "    (\"insert\", 16),\n",
    "    (\"bind\", 8),\n",
    "    (\"collect\", 8),\n",
    "]\n",
    "\n",
    "stats[\"tree\"] = read_stats(tests, all_cfgs, 'tree', 'emp')\n",
    "\n",
    "stats[\"tree-memo\"] = read_stats(tests, memo_cfgs, 'tree-memo', 'emp')"
   ]
  },
  {
   "cell_type": "code",
   "execution_count": null,
   "id": "96ef2513",
   "metadata": {},
   "outputs": [],
   "source": [
    "def roundx(x):\n",
    "    return (\n",
    "        np.format_float_positional(x, 2, trim=\"0\")\n",
    "        if x >= 1\n",
    "        else np.format_float_positional(x, int(np.ceil(np.abs(np.log10(x)))) + 1, trim=\"0\")\n",
    "    )\n",
    "\n",
    "\n",
    "def to_latex(df, name):\n",
    "    txt = df.to_latex(index=False).splitlines()\n",
    "    with open(f\"figs/{name}-full.tex\", \"w\") as w:\n",
    "        for l in txt:\n",
    "            if l != \"\\\\toprule\" and l != \"\\\\bottomrule\":\n",
    "                w.write(l)\n",
    "                w.write(\"\\n\")\n",
    "\n",
    "\n",
    "def gen_df(cat, gen, name):\n",
    "    df = pd.DataFrame([gen(d) for d in stats[cat]])\n",
    "    to_latex(df, name)\n",
    "    return df\n",
    "\n",
    "\n",
    "os.makedirs(\"figs\", exist_ok=True)"
   ]
  },
  {
   "cell_type": "code",
   "execution_count": null,
   "id": "90e95e9d",
   "metadata": {},
   "outputs": [],
   "source": [
    "def anal_stat(old, new) :\n",
    "    perc = \"N/A\"\n",
    "    if old >= 0:\n",
    "        perc = roundx(new * 100 / old)\n",
    "        perc = f\"{perc}\\\\%\"\n",
    "        old = roundx(old)\n",
    "    else:\n",
    "        old = \"\\\\textcolor{red}{\\\\bf failed}\"\n",
    "    return (old, perc)\n",
    "\n",
    "def gen(d):\n",
    "    old = d[\"old\"]\n",
    "    old_sa = d[\"old-sa\"]\n",
    "    new = d[\"best\"]\n",
    "    (old, perc_old) = anal_stat(old, new)\n",
    "    (old_sa, perc_old_sa) = anal_stat(old_sa, new)\n",
    "    new = roundx(new)\n",
    "    return {\n",
    "        \"Benchmark\": f\"\\\\verb|{d['name']}_{d['view']}|\",\n",
    "        \"\\\\taype (ms)\": old,\n",
    "        \"\\\\taype-SA (ms)\": old_sa,\n",
    "        \"\\\\taypsi (ms)\": f\"{new} \\\\hfill({perc_old}, {perc_old_sa})\",\n",
    "    }"
   ]
  },
  {
   "cell_type": "code",
   "execution_count": null,
   "id": "d0a05261",
   "metadata": {},
   "outputs": [],
   "source": [
    "gen_df('list', gen, 'list-bench')"
   ]
  },
  {
   "cell_type": "code",
   "execution_count": null,
   "id": "750b7ac5",
   "metadata": {},
   "outputs": [],
   "source": [
    "gen_df('tree', gen, 'tree-bench')"
   ]
  },
  {
   "cell_type": "code",
   "execution_count": null,
   "id": "51bb6aba",
   "metadata": {},
   "outputs": [],
   "source": [
    "def gen(d):\n",
    "    base = d[\"best\"]\n",
    "    smart = d['no-smart-array']\n",
    "    guard = d['no-reshape-guard']\n",
    "    memo = d['no-memo']\n",
    "    smart_perc = roundx(smart / base)\n",
    "    guard_perc = roundx(guard / base)\n",
    "    memo_perc = roundx(memo / base)\n",
    "    base = roundx(base)\n",
    "    smart = roundx(smart)\n",
    "    guard = roundx(guard)\n",
    "    memo = roundx(memo)\n",
    "    return {\n",
    "        \"Benchmark\": f\"\\\\verb|{d['name']}_{d['view']}|\",\n",
    "        # \"Base\": f\"{base}\",\n",
    "        \"No smart array (ms)\": f\"{smart} \\\\hfill({smart_perc}x)\",\n",
    "        \"No reshape guard (ms)\": f\"{guard} \\\\hfill({guard_perc}x)\",\n",
    "        \"No memoization (ms)\": f\"{memo} \\\\hfill({memo_perc}x)\",\n",
    "    }"
   ]
  },
  {
   "cell_type": "code",
   "execution_count": null,
   "id": "1dbd7c08",
   "metadata": {},
   "outputs": [],
   "source": [
    "gen_df(\"list\", gen, \"list-opt\")"
   ]
  },
  {
   "cell_type": "code",
   "execution_count": null,
   "id": "7821deca",
   "metadata": {},
   "outputs": [],
   "source": [
    "gen_df(\"tree\", gen, \"tree-opt\")"
   ]
  },
  {
   "cell_type": "code",
   "execution_count": null,
   "id": "293b4af6",
   "metadata": {},
   "outputs": [],
   "source": [
    "def gen(d):\n",
    "    base = d[\"best\"]\n",
    "    memo = d['no-memo']\n",
    "    memo_perc = roundx(memo / base)\n",
    "    base = roundx(base)\n",
    "    memo = roundx(memo)\n",
    "    return {\n",
    "        \"Benchmark\": f\"\\\\verb|{d['name']}_{d['view']}|\",\n",
    "        \"Base (ms)\": f\"{base}\",\n",
    "        \"No memoization (ms)\": f\"{memo} \\\\hfill({memo_perc}x)\",\n",
    "    }"
   ]
  },
  {
   "cell_type": "code",
   "execution_count": null,
   "id": "b7b221fc",
   "metadata": {},
   "outputs": [],
   "source": [
    "gen_df(\"list-memo\", gen, \"list-memo\")"
   ]
  },
  {
   "cell_type": "code",
   "execution_count": null,
   "id": "64416619",
   "metadata": {},
   "outputs": [],
   "source": [
    "gen_df(\"tree-memo\", gen, \"tree-memo\")"
   ]
  },
  {
   "cell_type": "code",
   "execution_count": null,
   "id": "7ce319dc",
   "metadata": {},
   "outputs": [],
   "source": [
    "# Statistics of compilation and solver\n",
    "\n",
    "\n",
    "def gen_solver_stat(d):\n",
    "    n_atoms = d[\"#atoms\"]\n",
    "    s = d[\"statistics\"]\n",
    "    n_fun = len(s)\n",
    "    n_atoms_data = {k: v[\"#atoms\"] for k, v in s.items()}\n",
    "    n_atoms_total = sum(n_atoms_data.values())\n",
    "    n_queries_data = {k: len(v[\"queries\"]) for k, v in s.items()}\n",
    "    n_queries_total = sum(n_queries_data.values())\n",
    "    # n_queries_max = max(n_queries_data.values())\n",
    "    t_solve_data = {k: sum(v[\"queries\"]) for k, v in s.items()}\n",
    "    t_solve_total = sum(t_solve_data.values())\n",
    "    # t_solve_max = max(t_solve_data.values())\n",
    "    # t_solve_max_per_query = max([max(v[\"queries\"]) for _, v in s.items()])\n",
    "    return {\n",
    "        \"#fun\": n_fun,\n",
    "        \"#atoms\": n_atoms,\n",
    "        \"#atoms_total\": n_atoms_total,\n",
    "        \"#queries\": n_queries_total,\n",
    "        \"solver\": t_solve_total,\n",
    "    }\n",
    "\n",
    "\n",
    "def gen_compile_stat(cat, name):\n",
    "    with open(f\"output-compile/{cat}/{name}.compile.stat\", \"r\") as r:\n",
    "        compile_stats = [float(t) for t in r]\n",
    "    with open(f\"output-compile/{cat}/{name}.solver.stat\", \"r\") as r:\n",
    "        data = [gen_solver_stat(json.loads(s)) for s in r]\n",
    "\n",
    "    return {\n",
    "        \"\\\\#Functions\": data[0][\"#fun\"],\n",
    "        \"\\\\#Types\": data[0][\"#atoms\"],\n",
    "        \"\\\\#Atoms\": data[0][\"#atoms_total\"],\n",
    "        \"\\\\#Queries\": data[0][\"#queries\"],\n",
    "        \"Total (s)\": roundx(np.mean(compile_stats)),\n",
    "        \"Solver (s)\": roundx(np.mean([d[\"solver\"] for d in data])),\n",
    "    }"
   ]
  },
  {
   "cell_type": "code",
   "execution_count": null,
   "id": "8d57c15b",
   "metadata": {},
   "outputs": [],
   "source": [
    "cats = {\n",
    "    \"list\": \"List\",\n",
    "    \"tree\": \"Tree\",\n",
    "    \"stress-solver\": \"List (stress)\",\n",
    "    \"dating\": \"Dating\",\n",
    "    \"record\": \"Medical Records\",\n",
    "    \"calculator\": \"Secure Calculator\",\n",
    "    \"dtree\": \"Decision Tree\",\n",
    "    \"kmeans\": \"K-means\",\n",
    "    \"misc\": \"Miscellaneous\",\n",
    "}\n",
    "\n",
    "cat_map = {\"stress-solver\": \"list\"}\n",
    "\n",
    "data = [\n",
    "    {\"Suite\": name, **gen_compile_stat(cat, cat_map[cat] if cat in cat_map else cat)}\n",
    "    for cat, name in cats.items()\n",
    "]\n",
    "\n",
    "df = pd.DataFrame(data)\n",
    "to_latex(df, \"compile-stats\")\n",
    "df"
   ]
  },
  {
   "cell_type": "code",
   "execution_count": null,
   "id": "88386efe-b105-40d7-a379-33c41b4b59d9",
   "metadata": {},
   "outputs": [],
   "source": [
    "# Done!"
   ]
  }
 ],
 "metadata": {
  "kernelspec": {
   "display_name": "Python 3 (ipykernel)",
   "language": "python",
   "name": "python3"
  },
  "language_info": {
   "codemirror_mode": {
    "name": "ipython",
    "version": 3
   },
   "file_extension": ".py",
   "mimetype": "text/x-python",
   "name": "python",
   "nbconvert_exporter": "python",
   "pygments_lexer": "ipython3",
   "version": "3.11.6"
  }
 },
 "nbformat": 4,
 "nbformat_minor": 5
}
